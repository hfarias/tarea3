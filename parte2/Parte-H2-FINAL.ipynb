{
 "cells": [
  {
   "cell_type": "code",
   "execution_count": 2,
   "metadata": {
    "collapsed": false,
    "deletable": true,
    "editable": true
   },
   "outputs": [],
   "source": [
    "import pandas as pd\n",
    "import matplotlib.pyplot as plt"
   ]
  },
  {
   "cell_type": "code",
   "execution_count": 3,
   "metadata": {
    "collapsed": true,
    "deletable": true,
    "editable": true
   },
   "outputs": [],
   "source": [
    "from sklearn.preprocessing import MinMaxScaler\n",
    "import numpy as np"
   ]
  },
  {
   "cell_type": "code",
   "execution_count": 19,
   "metadata": {
    "collapsed": true,
    "deletable": true,
    "editable": true
   },
   "outputs": [],
   "source": [
    "from sklearn.metrics import mean_squared_error\n",
    "from sklearn import cross_validation"
   ]
  },
  {
   "cell_type": "code",
   "execution_count": 5,
   "metadata": {
    "collapsed": true,
    "deletable": true,
    "editable": true
   },
   "outputs": [],
   "source": [
    "import math"
   ]
  },
  {
   "cell_type": "code",
   "execution_count": 15,
   "metadata": {
    "collapsed": false,
    "deletable": true,
    "editable": true
   },
   "outputs": [],
   "source": [
    "import warnings\n",
    "warnings.filterwarnings('ignore')"
   ]
  },
  {
   "cell_type": "code",
   "execution_count": 6,
   "metadata": {
    "collapsed": false,
    "deletable": true,
    "editable": true
   },
   "outputs": [
    {
     "name": "stderr",
     "output_type": "stream",
     "text": [
      "Using TensorFlow backend.\n"
     ]
    }
   ],
   "source": [
    "from keras.models import Sequential\n",
    "from keras.layers import Dense\n",
    "from keras.layers import LSTM"
   ]
  },
  {
   "cell_type": "markdown",
   "metadata": {
    "deletable": true,
    "editable": true
   },
   "source": [
    "### Carga de los datos:"
   ]
  },
  {
   "cell_type": "code",
   "execution_count": 42,
   "metadata": {
    "collapsed": false,
    "deletable": true,
    "editable": true
   },
   "outputs": [],
   "source": [
    "name_f=\"international-airline-passengers.csv\""
   ]
  },
  {
   "cell_type": "code",
   "execution_count": 43,
   "metadata": {
    "collapsed": false,
    "deletable": true,
    "editable": true
   },
   "outputs": [],
   "source": [
    "dataframe = pd.read_csv(name_f, sep=',', usecols=[1], engine='python', skipfooter=3)\n",
    "dataframe[:] = dataframe[:].astype('float32') \n",
    "df_train, df_test = dataframe[0:96].values, dataframe[96:].values"
   ]
  },
  {
   "cell_type": "markdown",
   "metadata": {
    "deletable": true,
    "editable": true
   },
   "source": [
    "Escalamiento de los datos:"
   ]
  },
  {
   "cell_type": "code",
   "execution_count": 44,
   "metadata": {
    "collapsed": true,
    "deletable": true,
    "editable": true
   },
   "outputs": [],
   "source": [
    "scaler = MinMaxScaler(feature_range=(0, 1)).fit(df_train)\n",
    "stream_train_scaled = scaler.transform(df_train)\n",
    "stream_test_scaled = scaler.transform(df_test)"
   ]
  },
  {
   "cell_type": "code",
   "execution_count": 45,
   "metadata": {
    "collapsed": true,
    "deletable": true,
    "editable": true
   },
   "outputs": [],
   "source": [
    "def create_dataset(dataset,lag=1):\n",
    "    t_data = len(dataset)\n",
    "    dataset = dataset.reshape(t_data)\n",
    "    dataY = dataset[lag:]\n",
    "    t_dataY = len(dataY)\n",
    "    dataX = np.zeros((t_dataY, lag))\n",
    "    for i in range(t_dataY):\n",
    "        dataX[i] = dataset[i:lag+i]\n",
    "    return np.array(dataX),np.array(dataY)"
   ]
  },
  {
   "cell_type": "markdown",
   "metadata": {
    "deletable": true,
    "editable": true
   },
   "source": [
    "### Generar los conjuntos de entrenamiento y test:"
   ]
  },
  {
   "cell_type": "code",
   "execution_count": 46,
   "metadata": {
    "collapsed": true,
    "deletable": true,
    "editable": true
   },
   "outputs": [],
   "source": [
    "lag = 3 #número de pasos de tiempo anteriores para usar como \n",
    "#variables de entrada para predecir el siguiente período de tiempo"
   ]
  },
  {
   "cell_type": "code",
   "execution_count": 47,
   "metadata": {
    "collapsed": false,
    "deletable": true,
    "editable": true
   },
   "outputs": [],
   "source": [
    "trainX, trainY = create_dataset(stream_train_scaled, lag)\n",
    "testX, testY = create_dataset(stream_test_scaled, lag)\n",
    "trainX = np.reshape(trainX, (trainX.shape[0], 1, trainX.shape[1]))\n",
    "testX = np.reshape(testX, (testX.shape[0], 1, testX.shape[1]))\n"
   ]
  },
  {
   "cell_type": "markdown",
   "metadata": {
    "deletable": true,
    "editable": true
   },
   "source": [
    "**(H2) Determine el numero de bloques LSTM usando 5-fold Cross Validation.**"
   ]
  },
  {
   "cell_type": "code",
   "execution_count": 49,
   "metadata": {
    "collapsed": true,
    "deletable": true,
    "editable": true
   },
   "outputs": [],
   "source": [
    "nb = range(4,13,2)\n",
    "nb_len = len(nb)\n",
    "trainX_len =len(trainX)\n",
    "cross = cross_validation.KFold(trainX_len, nb_len)\n",
    "cross_len =len(cross)\n",
    "mse_cv = np.zeros(len(nb))\n",
    "historiales = []"
   ]
  },
  {
   "cell_type": "code",
   "execution_count": 50,
   "metadata": {
    "collapsed": false,
    "deletable": true,
    "editable": true
   },
   "outputs": [
    {
     "name": "stdout",
     "output_type": "stream",
     "text": [
      "El RMSE para un numero de 4 bloques es 24.4775\n",
      "El RMSE para un numero de 6 bloques es 23.3565\n",
      "El RMSE para un numero de 8 bloques es 23.6173\n",
      "El RMSE para un numero de 10 bloques es 22.3093\n",
      "El RMSE para un numero de 12 bloques es 23.2287\n"
     ]
    }
   ],
   "source": [
    "for bloque in range(nb_len):\n",
    "    scores = np.zeros(cross_len)\n",
    "    for i, (train, val) in enumerate(cross):\n",
    "        model = Sequential()\n",
    "        model.add(LSTM(output_dim=nb[bloque], input_dim=3, activation='tanh', inner_activation='sigmoid'))\n",
    "        model.add(Dense(1))\n",
    "        # Compilar modelo\n",
    "        model.compile(loss='mean_squared_error', optimizer='adam')\n",
    "        # Ajustar modelo\n",
    "        hist = model.fit(trainX[train], trainY[train], nb_epoch=100, batch_size=1, verbose=0)\n",
    "        historiales.append(hist)\n",
    "        # Evaluar modelo\n",
    "        trainPredict = model.predict(trainX[val])\n",
    "        trainPredict = scaler.inverse_transform(trainPredict)\n",
    "        trainYP = scaler.inverse_transform([trainY[val]])\n",
    "        # RMSE\n",
    "        scores[i] = math.sqrt(mean_squared_error(trainYP[0], trainPredict[:,0]))\n",
    "    mse_cv[bloque] = scores.mean()\n",
    "    print(\"El RMSE para un numero de %d bloques es %.4f\" % (nb[bloque], mse_cv[bloque]))"
   ]
  },
  {
   "cell_type": "markdown",
   "metadata": {},
   "source": [
    "Como sabemos el overfitting es un problema comun en las redes recurrentes, ahora una tecnica para solucionar esto es contrar los parametros adecuados para evitarlo. Una tecnica comun para esto es Cross-validation, que sirve para el performance de estos parametros o mejor dicho los estimados asociados a estos parametros. En este caso podemos ver que el mejor numero de bloques es 10."
   ]
  },
  {
   "cell_type": "code",
   "execution_count": 54,
   "metadata": {
    "collapsed": false,
    "deletable": true,
    "editable": true
   },
   "outputs": [
    {
     "data": {
      "text/plain": [
       "25"
      ]
     },
     "execution_count": 54,
     "metadata": {},
     "output_type": "execute_result"
    }
   ],
   "source": [
    "len(historiales)"
   ]
  },
  {
   "cell_type": "markdown",
   "metadata": {},
   "source": [
    "Finalmente podemos ver una muestra las curvas de los erros obtenidos durante la estimación del mejor numero de bloques, los resultados son concistentes con los indicados. "
   ]
  },
  {
   "cell_type": "code",
   "execution_count": 70,
   "metadata": {
    "collapsed": false,
    "deletable": true,
    "editable": true
   },
   "outputs": [
    {
     "data": {
      "image/png": "[encoded data removed]",
      "text/plain": [
       "<matplotlib.figure.Figure at 0x15939c790>"
      ]
     },
     "metadata": {},
     "output_type": "display_data"
    }
   ],
   "source": [
    "plt.figure(figsize=(8, 10))\n",
    "#####\n",
    "#plt.subplot(4, 2, 1)\n",
    "plt.plot(historiales[2].epoch,historiales[2].history['loss']) \n",
    "plt.plot(historiales[7].epoch,historiales[7].history['loss'])  \n",
    "plt.plot(historiales[12].epoch,historiales[12].history['loss']) \n",
    "plt.plot(historiales[17].epoch,historiales[17].history['loss']) \n",
    "plt.plot(historiales[22].epoch,historiales[22].history['loss']) \n",
    "plt.title('Loss del modelo LSTM')  \n",
    "plt.ylabel('loss')  \n",
    "plt.xlabel('Epoch')  \n",
    "plt.legend(['Error_4','Error_6','Error_8','Error_10','Error_12'], loc='upper left')\n",
    "plt.grid(True)\n",
    "plt.tight_layout()\n",
    "plt.show()"
   ]
  },
  {
   "cell_type": "code",
   "execution_count": null,
   "metadata": {
    "collapsed": true,
    "deletable": true,
    "editable": true
   },
   "outputs": [],
   "source": []
  },
  {
   "cell_type": "code",
   "execution_count": null,
   "metadata": {
    "collapsed": true,
    "deletable": true,
    "editable": true
   },
   "outputs": [],
   "source": []
  },
  {
   "cell_type": "code",
   "execution_count": null,
   "metadata": {
    "collapsed": true,
    "deletable": true,
    "editable": true
   },
   "outputs": [],
   "source": []
  },
  {
   "cell_type": "code",
   "execution_count": null,
   "metadata": {
    "collapsed": true,
    "deletable": true,
    "editable": true
   },
   "outputs": [],
   "source": []
  }
 ],
 "metadata": {
  "anaconda-cloud": {},
  "kernelspec": {
   "display_name": "Python [default]",
   "language": "python",
   "name": "python2"
  },
  "language_info": {
   "codemirror_mode": {
    "name": "ipython",
    "version": 2
   },
   "file_extension": ".py",
   "mimetype": "text/x-python",
   "name": "python",
   "nbconvert_exporter": "python",
   "pygments_lexer": "ipython2",
   "version": "2.7.12"
  }
 },
 "nbformat": 4,
 "nbformat_minor": 2
}
